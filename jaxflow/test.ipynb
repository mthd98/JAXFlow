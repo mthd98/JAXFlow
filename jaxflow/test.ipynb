{
 "cells": [
  {
   "cell_type": "code",
   "execution_count": 4,
   "metadata": {},
   "outputs": [],
   "source": [
    "import os\n",
    "import sys\n",
    "\n",
    "def create_init_files(root_dir):\n",
    "    \"\"\"\n",
    "    Walk through the directory tree under `root_dir` and create an empty\n",
    "    __init__.py in every folder that doesn't already have one.\n",
    "    \"\"\"\n",
    "    for dirpath, dirnames, filenames in os.walk(root_dir):\n",
    "        if \"__init__.py\" not in filenames:\n",
    "            init_path = os.path.join(dirpath, \"__init__.py\")\n",
    "            open(init_path, \"w\").close()\n",
    "            print(f\"Created {init_path}\")\n",
    "\n",
    "if __name__ == \"__main__\":\n",
    "    # Use the first command-line argument as the root directory,\n",
    "    # or default to the current directory.\n",
    "    root = sys.argv[1] if len(sys.argv) > 1 else \".\"\n",
    "    create_init_files(root)\n",
    "\n",
    "# Save this as `add_init.py` and run:\n",
    "# python add_init.py jaxflow/layers\n"
   ]
  },
  {
   "cell_type": "code",
   "execution_count": null,
   "metadata": {},
   "outputs": [],
   "source": []
  }
 ],
 "metadata": {
  "kernelspec": {
   "display_name": "Python 3",
   "language": "python",
   "name": "python3"
  },
  "language_info": {
   "codemirror_mode": {
    "name": "ipython",
    "version": 3
   },
   "file_extension": ".py",
   "mimetype": "text/x-python",
   "name": "python",
   "nbconvert_exporter": "python",
   "pygments_lexer": "ipython3",
   "version": "3.12.6"
  }
 },
 "nbformat": 4,
 "nbformat_minor": 2
}
